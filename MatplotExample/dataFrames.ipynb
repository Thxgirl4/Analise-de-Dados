{
 "cells": [
  {
   "cell_type": "code",
   "execution_count": 1,
   "id": "dc605025-8943-4400-a4a4-954f903a70df",
   "metadata": {},
   "outputs": [],
   "source": [
    "import pandas as pd\n",
    "import numpy as np"
   ]
  },
  {
   "cell_type": "code",
   "execution_count": 2,
   "id": "d929d6de-5d00-43d3-bbcc-ed57c1932ff0",
   "metadata": {},
   "outputs": [],
   "source": [
    "series = pd.Series([7, 4,2, np.nan,6,9])"
   ]
  },
  {
   "cell_type": "code",
   "execution_count": 3,
   "id": "95c3ed07-8597-49dc-8a47-31702d3907ab",
   "metadata": {},
   "outputs": [
    {
     "data": {
      "text/plain": [
       "0    7.0\n",
       "1    4.0\n",
       "2    2.0\n",
       "3    NaN\n",
       "4    6.0\n",
       "5    9.0\n",
       "dtype: float64"
      ]
     },
     "execution_count": 3,
     "metadata": {},
     "output_type": "execute_result"
    }
   ],
   "source": [
    "series"
   ]
  },
  {
   "cell_type": "code",
   "execution_count": 5,
   "id": "3b7689fd-22c9-4002-ade7-9c5c36fe0a6f",
   "metadata": {},
   "outputs": [],
   "source": [
    "data = pd.date_range('20180101', periods = 6)"
   ]
  },
  {
   "cell_type": "code",
   "execution_count": 6,
   "id": "b068343b-ec68-48ef-b471-5d9bec7dedcd",
   "metadata": {},
   "outputs": [
    {
     "data": {
      "text/plain": [
       "DatetimeIndex(['2018-01-01', '2018-01-02', '2018-01-03', '2018-01-04',\n",
       "               '2018-01-05', '2018-01-06'],\n",
       "              dtype='datetime64[ns]', freq='D')"
      ]
     },
     "execution_count": 6,
     "metadata": {},
     "output_type": "execute_result"
    }
   ],
   "source": [
    "data"
   ]
  },
  {
   "cell_type": "code",
   "execution_count": 12,
   "id": "52af10d7-bf67-4229-9932-138373227b3c",
   "metadata": {},
   "outputs": [],
   "source": [
    "df = pd.DataFrame(np.random.randn(6,4), index = data, columns = list(\"ABCD\"))"
   ]
  },
  {
   "cell_type": "code",
   "execution_count": 13,
   "id": "4150bad4-022c-4654-ab74-37cee3dc2151",
   "metadata": {},
   "outputs": [
    {
     "data": {
      "text/plain": [
       "array([[ 0.37736761, -1.12628384, -0.58931996,  0.80614914],\n",
       "       [-1.0761491 , -0.01060486,  0.00664441, -0.95554591],\n",
       "       [-0.54005088,  0.37204906, -1.04816144,  0.54374377],\n",
       "       [ 1.3962439 , -0.33615658,  0.93444808,  0.66797792],\n",
       "       [ 2.11098038, -1.5541964 , -0.69021508, -0.24502658],\n",
       "       [ 0.24755011,  1.01321952,  0.25454976, -1.39324086]])"
      ]
     },
     "execution_count": 13,
     "metadata": {},
     "output_type": "execute_result"
    }
   ],
   "source": [
    "np.random.randn(6,4)"
   ]
  },
  {
   "cell_type": "code",
   "execution_count": 14,
   "id": "02342291-827f-4b96-94e9-4fd58a9d70e3",
   "metadata": {},
   "outputs": [
    {
     "data": {
      "text/html": [
       "<div>\n",
       "<style scoped>\n",
       "    .dataframe tbody tr th:only-of-type {\n",
       "        vertical-align: middle;\n",
       "    }\n",
       "\n",
       "    .dataframe tbody tr th {\n",
       "        vertical-align: top;\n",
       "    }\n",
       "\n",
       "    .dataframe thead th {\n",
       "        text-align: right;\n",
       "    }\n",
       "</style>\n",
       "<table border=\"1\" class=\"dataframe\">\n",
       "  <thead>\n",
       "    <tr style=\"text-align: right;\">\n",
       "      <th></th>\n",
       "      <th>A</th>\n",
       "      <th>B</th>\n",
       "      <th>C</th>\n",
       "      <th>D</th>\n",
       "    </tr>\n",
       "  </thead>\n",
       "  <tbody>\n",
       "    <tr>\n",
       "      <th>2018-01-01</th>\n",
       "      <td>1.094367</td>\n",
       "      <td>-0.820550</td>\n",
       "      <td>-0.837783</td>\n",
       "      <td>1.726553</td>\n",
       "    </tr>\n",
       "    <tr>\n",
       "      <th>2018-01-02</th>\n",
       "      <td>-1.099967</td>\n",
       "      <td>0.309123</td>\n",
       "      <td>1.029401</td>\n",
       "      <td>-0.249460</td>\n",
       "    </tr>\n",
       "    <tr>\n",
       "      <th>2018-01-03</th>\n",
       "      <td>-0.142065</td>\n",
       "      <td>1.268458</td>\n",
       "      <td>-1.642103</td>\n",
       "      <td>0.657100</td>\n",
       "    </tr>\n",
       "    <tr>\n",
       "      <th>2018-01-04</th>\n",
       "      <td>1.179213</td>\n",
       "      <td>-0.377324</td>\n",
       "      <td>-1.724265</td>\n",
       "      <td>0.713483</td>\n",
       "    </tr>\n",
       "    <tr>\n",
       "      <th>2018-01-05</th>\n",
       "      <td>0.513568</td>\n",
       "      <td>0.108827</td>\n",
       "      <td>0.238487</td>\n",
       "      <td>-1.395230</td>\n",
       "    </tr>\n",
       "    <tr>\n",
       "      <th>2018-01-06</th>\n",
       "      <td>-1.354855</td>\n",
       "      <td>-0.373169</td>\n",
       "      <td>-0.094635</td>\n",
       "      <td>0.309277</td>\n",
       "    </tr>\n",
       "  </tbody>\n",
       "</table>\n",
       "</div>"
      ],
      "text/plain": [
       "                   A         B         C         D\n",
       "2018-01-01  1.094367 -0.820550 -0.837783  1.726553\n",
       "2018-01-02 -1.099967  0.309123  1.029401 -0.249460\n",
       "2018-01-03 -0.142065  1.268458 -1.642103  0.657100\n",
       "2018-01-04  1.179213 -0.377324 -1.724265  0.713483\n",
       "2018-01-05  0.513568  0.108827  0.238487 -1.395230\n",
       "2018-01-06 -1.354855 -0.373169 -0.094635  0.309277"
      ]
     },
     "execution_count": 14,
     "metadata": {},
     "output_type": "execute_result"
    }
   ],
   "source": [
    "df"
   ]
  },
  {
   "cell_type": "code",
   "execution_count": 16,
   "id": "1ebad16e-eb61-4c11-a5ba-c2735babdd14",
   "metadata": {},
   "outputs": [],
   "source": [
    "df2 = pd.DataFrame({\"A\": 7,\n",
    "                    'B': pd.Timestamp('20190101'),\n",
    "                    'C': pd.Series(1, index=list(range(4)), dtype='float32'),\n",
    "                    \"D\": np.array([3] * 4, dtype='int32'),\n",
    "                    \"E\": pd.Categorical([\"test\", \"train\", \"test\", \"train\"]),\n",
    "                    'F': 'Python'})               "
   ]
  },
  {
   "cell_type": "code",
   "execution_count": 17,
   "id": "3dad2354-7e4b-413e-9541-893cd6d35d8e",
   "metadata": {},
   "outputs": [
    {
     "data": {
      "text/html": [
       "<div>\n",
       "<style scoped>\n",
       "    .dataframe tbody tr th:only-of-type {\n",
       "        vertical-align: middle;\n",
       "    }\n",
       "\n",
       "    .dataframe tbody tr th {\n",
       "        vertical-align: top;\n",
       "    }\n",
       "\n",
       "    .dataframe thead th {\n",
       "        text-align: right;\n",
       "    }\n",
       "</style>\n",
       "<table border=\"1\" class=\"dataframe\">\n",
       "  <thead>\n",
       "    <tr style=\"text-align: right;\">\n",
       "      <th></th>\n",
       "      <th>A</th>\n",
       "      <th>B</th>\n",
       "      <th>C</th>\n",
       "      <th>D</th>\n",
       "      <th>E</th>\n",
       "      <th>F</th>\n",
       "    </tr>\n",
       "  </thead>\n",
       "  <tbody>\n",
       "    <tr>\n",
       "      <th>0</th>\n",
       "      <td>7</td>\n",
       "      <td>2019-01-01</td>\n",
       "      <td>1.0</td>\n",
       "      <td>3</td>\n",
       "      <td>test</td>\n",
       "      <td>Python</td>\n",
       "    </tr>\n",
       "    <tr>\n",
       "      <th>1</th>\n",
       "      <td>7</td>\n",
       "      <td>2019-01-01</td>\n",
       "      <td>1.0</td>\n",
       "      <td>3</td>\n",
       "      <td>train</td>\n",
       "      <td>Python</td>\n",
       "    </tr>\n",
       "    <tr>\n",
       "      <th>2</th>\n",
       "      <td>7</td>\n",
       "      <td>2019-01-01</td>\n",
       "      <td>1.0</td>\n",
       "      <td>3</td>\n",
       "      <td>test</td>\n",
       "      <td>Python</td>\n",
       "    </tr>\n",
       "    <tr>\n",
       "      <th>3</th>\n",
       "      <td>7</td>\n",
       "      <td>2019-01-01</td>\n",
       "      <td>1.0</td>\n",
       "      <td>3</td>\n",
       "      <td>train</td>\n",
       "      <td>Python</td>\n",
       "    </tr>\n",
       "  </tbody>\n",
       "</table>\n",
       "</div>"
      ],
      "text/plain": [
       "   A          B    C  D      E       F\n",
       "0  7 2019-01-01  1.0  3   test  Python\n",
       "1  7 2019-01-01  1.0  3  train  Python\n",
       "2  7 2019-01-01  1.0  3   test  Python\n",
       "3  7 2019-01-01  1.0  3  train  Python"
      ]
     },
     "execution_count": 17,
     "metadata": {},
     "output_type": "execute_result"
    }
   ],
   "source": [
    "df2\n"
   ]
  },
  {
   "cell_type": "code",
   "execution_count": 18,
   "id": "e7c65157-009f-466c-a66f-ecaf350c06be",
   "metadata": {},
   "outputs": [
    {
     "data": {
      "text/plain": [
       "A            int64\n",
       "B    datetime64[s]\n",
       "C          float32\n",
       "D            int32\n",
       "E         category\n",
       "F           object\n",
       "dtype: object"
      ]
     },
     "execution_count": 18,
     "metadata": {},
     "output_type": "execute_result"
    }
   ],
   "source": [
    "df2.dtypes"
   ]
  },
  {
   "cell_type": "code",
   "execution_count": null,
   "id": "8722bc39-2fdc-47da-bafa-37843d57c1cd",
   "metadata": {},
   "outputs": [],
   "source": []
  }
 ],
 "metadata": {
  "kernelspec": {
   "display_name": "Python 3 (ipykernel)",
   "language": "python",
   "name": "python3"
  },
  "language_info": {
   "codemirror_mode": {
    "name": "ipython",
    "version": 3
   },
   "file_extension": ".py",
   "mimetype": "text/x-python",
   "name": "python",
   "nbconvert_exporter": "python",
   "pygments_lexer": "ipython3",
   "version": "3.13.2"
  }
 },
 "nbformat": 4,
 "nbformat_minor": 5
}
